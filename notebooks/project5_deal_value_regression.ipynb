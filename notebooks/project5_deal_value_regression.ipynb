{
 "cells": [
  {
   "cell_type": "markdown",
   "id": "ab22b32c",
   "metadata": {},
   "source": [
    "# Project 5 - Deal / Pack Value Regression\n",
    "\n",
    "This notebook is self-contained and uses synthetic data.\n"
   ]
  },
  {
   "cell_type": "code",
   "execution_count": null,
   "id": "f55786b4",
   "metadata": {},
   "outputs": [],
   "source": [
    "\n",
    "import numpy as np\n",
    "import pandas as pd\n",
    "from sklearn.model_selection import train_test_split\n",
    "from sklearn.preprocessing import StandardScaler, OneHotEncoder\n",
    "from sklearn.compose import ColumnTransformer\n",
    "from sklearn.pipeline import Pipeline\n",
    "from sklearn.linear_model import LogisticRegression, LinearRegression\n",
    "from sklearn.ensemble import RandomForestClassifier, RandomForestRegressor, GradientBoostingRegressor, GradientBoostingClassifier\n",
    "from sklearn.metrics import accuracy_score, roc_auc_score, mean_squared_error, r2_score\n",
    "import pickle\n",
    "import matplotlib.pyplot as plt\n",
    "np.random.seed(42)\n",
    "print('Imports ready')\n"
   ]
  },
  {
   "cell_type": "code",
   "execution_count": null,
   "id": "23dec92d",
   "metadata": {},
   "outputs": [],
   "source": [
    "\n",
    "# Synthetic bundles and uplift/value regression\n",
    "n_items=120\n",
    "items=pd.DataFrame({'item_id':np.arange(1,n_items+1),'price':np.round(np.random.normal(12,4,n_items).clip(3,60),2)})\n",
    "bundles=[]\n",
    "for i in range(800):\n",
    "    k=np.random.choice([2,3])\n",
    "    its=list(np.random.choice(items['item_id'], size=k, replace=False))\n",
    "    price_sum=items.loc[items['item_id'].isin(its),'price'].sum()\n",
    "    discount=np.random.choice([0,5,10,15,20],p=[0.4,0.25,0.2,0.1,0.05])\n",
    "    popularity=np.random.rand()\n",
    "    expected_value = 0.03*popularity*price_sum + 0.02*discount + np.random.normal(0,1)\n",
    "    bundles.append({'bundle_id':i+1,'items':its,'price_sum':price_sum,'discount':discount,'popularity':popularity,'expected_value':expected_value})\n",
    "bundles_df=pd.DataFrame(bundles)\n",
    "X=bundles_df[['price_sum','discount','popularity']]; y=bundles_df['expected_value']\n",
    "X_train,X_test,y_train,y_test=train_test_split(X,y,test_size=0.2,random_state=42)\n",
    "gbr=GradientBoostingRegressor(n_estimators=200, random_state=42).fit(X_train,y_train)\n",
    "print('Deal RMSE:', mean_squared_error(y_test,gbr.predict(X_test),squared=False))\n",
    "def score_bundles(df_b, top_k=10):\n",
    "    df_b['pred']=gbr.predict(df_b[['price_sum','discount','popularity']])\n",
    "    return df_b.sort_values('pred', ascending=False).head(top_k)\n",
    "score_bundles(bundles_df, top_k=6)\n",
    "with open('project5_deal_gbr.pkl','wb') as f:\n",
    "    pickle.dump(gbr,f)\n",
    "print('Saved project5_deal_gbr.pkl')\n"
   ]
  }
 ],
 "metadata": {},
 "nbformat": 4,
 "nbformat_minor": 5
}
