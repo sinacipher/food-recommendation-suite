{
 "cells": [
  {
   "cell_type": "markdown",
   "id": "a346e7e8",
   "metadata": {},
   "source": [
    "# Project 1 - Next-Order Reorder Prediction\n",
    "\n",
    "This notebook is self-contained and uses synthetic data.\n"
   ]
  },
  {
   "cell_type": "code",
   "execution_count": null,
   "id": "631afbf9",
   "metadata": {},
   "outputs": [],
   "source": [
    "\n",
    "import numpy as np\n",
    "import pandas as pd\n",
    "from sklearn.model_selection import train_test_split\n",
    "from sklearn.preprocessing import StandardScaler, OneHotEncoder\n",
    "from sklearn.compose import ColumnTransformer\n",
    "from sklearn.pipeline import Pipeline\n",
    "from sklearn.linear_model import LogisticRegression, LinearRegression\n",
    "from sklearn.ensemble import RandomForestClassifier, RandomForestRegressor, GradientBoostingRegressor, GradientBoostingClassifier\n",
    "from sklearn.metrics import accuracy_score, roc_auc_score, mean_squared_error, r2_score\n",
    "import pickle\n",
    "import matplotlib.pyplot as plt\n",
    "np.random.seed(42)\n",
    "print('Imports ready')\n"
   ]
  },
  {
   "cell_type": "code",
   "execution_count": null,
   "id": "5cf2301f",
   "metadata": {},
   "outputs": [],
   "source": [
    "\n",
    "# Synthetic data\n",
    "n=5000\n",
    "cuisines=['Pizza','Burger','Sushi','Indian','Mexican','Salad','Dessert']\n",
    "df=pd.DataFrame({\n",
    " 'customer_id':np.random.randint(1000,2000,n),\n",
    " 'cuisine':np.random.choice(cuisines,n),\n",
    " 'price':np.round(np.random.normal(14,6,n).clip(3,80),2),\n",
    " 'discount':np.random.choice([0,5,10,15],n,p=[0.6,0.2,0.12,0.08]),\n",
    " 'delivery_time':np.random.normal(30,8,n).round().astype(int),\n",
    " 'previous_orders':np.random.poisson(2,n),\n",
    " 'days_since_last':np.random.randint(1,60,n),\n",
    " 'hour':np.random.randint(8,23,n)\n",
    "})\n",
    "logit = -1.5 + 0.6*df['previous_orders'] -0.02*df['delivery_time'] + 0.03*df['discount'] -0.01*df['price'] -0.02*df['days_since_last']\n",
    "prob = 1/(1+np.exp(-logit))\n",
    "df['reorder']=(np.random.rand(n)<prob).astype(int)\n",
    "df.head()\n"
   ]
  },
  {
   "cell_type": "code",
   "execution_count": null,
   "id": "23384324",
   "metadata": {},
   "outputs": [],
   "source": [
    "\n",
    "# Train test split & pipeline\n",
    "features=['cuisine','price','discount','delivery_time','previous_orders','days_since_last','hour']\n",
    "X=df[features]; y=df['reorder']\n",
    "cat=['cuisine']; num=['price','discount','delivery_time','previous_orders','days_since_last','hour']\n",
    "pre = ColumnTransformer([('cat', OneHotEncoder(handle_unknown='ignore', sparse=False), cat), ('num', StandardScaler(), num)])\n",
    "X_train,X_test,y_train,y_test=train_test_split(X,y,test_size=0.2,stratify=y,random_state=42)\n",
    "pipe = Pipeline([('pre',pre),('clf',RandomForestClassifier(n_estimators=150, random_state=42))])\n",
    "pipe.fit(X_train,y_train)\n",
    "pred=pipe.predict(X_test); probas=pipe.predict_proba(X_test)[:,1]\n",
    "print('Acc:', accuracy_score(y_test,pred)); print('ROC AUC:', roc_auc_score(y_test,probas))\n"
   ]
  },
  {
   "cell_type": "code",
   "execution_count": null,
   "id": "3067e990",
   "metadata": {},
   "outputs": [],
   "source": [
    "\n",
    "# Save\n",
    "with open('project1_reorder.pkl','wb') as f:\n",
    "    pickle.dump(pipe,f)\n",
    "print('Saved project1_reorder.pkl')\n"
   ]
  }
 ],
 "metadata": {},
 "nbformat": 4,
 "nbformat_minor": 5
}
